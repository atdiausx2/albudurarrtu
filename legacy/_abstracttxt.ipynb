{
 "cells": [
  {
   "cell_type": "markdown",
   "metadata": {},
   "source": [
    "In the world of education, the path to success is often visualized as a linear progression, where students follow a predefined journey from kindergarten to graduation. However, the reality is far more complex. Various reasons lead students to choose to deviate from this path. These students have encountered different challenges, circumstances, or a lack of proper resources that have led them to drop out of university.\n",
    "\n",
    "\n",
    "In this dataset provided to us, we will delve deeper into understanding the reasons why students have dropped out of the university, based on the data at our disposal. We will leverage our social knowledge to comprehend the factors that influenced their decision to drop out and work to prevent such occurrences if the issues are within the university's purview. Our goal is to offer solutions, support, and the necessary resources to facilitate students' educational journeys. We will also use the analysis we've conducted on the dropout students to learn from their experiences and chart a unique educational pathway with fewer dropouts."
   ]
  },
  {
   "cell_type": "code",
   "execution_count": null,
   "metadata": {
    "vscode": {
     "languageId": "plaintext"
    }
   },
   "outputs": [],
   "source": [
    "# Assuming dropout rates of 35%, 20%, and 15% for each group\n",
    "# dropout_rates = [0.35, 0.20, 0.15]\n",
    "# socioeconomic_labels = ['Low-Income Families', 'Middle-Income Families', 'High-Income Families']\n",
    "\n",
    "# # Create a bar chart\n",
    "# plt.bar(socioeconomic_labels, dropout_rates)\n",
    "\n",
    "# plt.xlabel('Socioeconomic Status')\n",
    "# plt.ylabel('Dropout Rate')\n",
    "# plt.title('Influence of Socioeconomic Factors on Dropout Rates')\n"
   ]
  },
  {
   "cell_type": "markdown",
   "metadata": {},
   "source": []
  },
  {
   "cell_type": "code",
   "execution_count": null,
   "metadata": {
    "vscode": {
     "languageId": "plaintext"
    }
   },
   "outputs": [],
   "source": [
    "#| label: fig-mother-occupation\n",
    "#| fig-cap: Dropout rate dependence on mother's occupation\n",
    "\n",
    "# dropout_rates_by_mother_occupation = data.groupby('Mother\\'s occupation')['Tuition fees up to date'].mean()\n",
    "# Group students by mother's occupation and calculate dropout rates\n",
    "\n",
    "\n",
    "# uncomment graph \n",
    "# \n",
    "# dropout_rates_by_mother_occupation = data.groupby('Mother\\'s occupation')['Target'].mean()\n",
    "\n",
    "# mother_occupation_mapping = categorical_columns_mapping['Mother\\'s occupation']\n",
    "# # Assuming dropout rates are based on the inverse of tuition fee payment\n",
    "\n",
    "# # dropout_rates = 1 - dropout_rates_by_mother_occupation\n",
    "# dropout_rates_by_mother_occupation.index = dropout_rates_by_mother_occupation.index.map(lambda x: mother_occupation_mapping[str(x)])\n",
    "# # Create a bar chart\n",
    "# plt.bar(dropout_rates_by_mother_occupation.index, dropout_rates)\n",
    "\n",
    "# plt.xlabel('Mother\\'s Occupation')\n",
    "# plt.ylabel('Dropout Rate')\n",
    "# plt.title('Influence of Mother\\'s Occupation on Dropout Rates')\n",
    "\n",
    "# plt.xticks(rotation='vertical')\n",
    "# plt.show()\n"
   ]
  },
  {
   "cell_type": "markdown",
   "metadata": {},
   "source": []
  }
 ],
 "metadata": {
  "language_info": {
   "name": "python"
  },
  "orig_nbformat": 4
 },
 "nbformat": 4,
 "nbformat_minor": 2
}
